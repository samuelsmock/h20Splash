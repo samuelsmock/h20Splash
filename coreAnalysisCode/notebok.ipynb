{
 "cells": [
  {
   "cell_type": "code",
   "execution_count": 14,
   "metadata": {},
   "outputs": [
    {
     "name": "stdout",
     "output_type": "stream",
     "text": [
      "Mapped temperature for T_IR=293.8 is y=294.19999999999953\n"
     ]
    }
   ],
   "source": [
    "import numpy as np\n",
    "from scipy.optimize import fsolve\n",
    "\n",
    "\n",
    "def innerTempFromHandWaving(T_IR):\n",
    "    T_IR_1, T_h20_1 = 16.6 +273.1, 16.1+273.1  # First known point\n",
    "    T_IR_2, T_h20_2 = 20.7+273.1, 21.1+273.1  # Second known point\n",
    "    # T_IR = a * y^4 + y + b\n",
    "    # Rearrange to solve for y\n",
    "    # a * y^4 + y + b - T_IR = 0\n",
    "    # This is a nonlinear equation that needs to be solved numerically\n",
    "\n",
    "    def find_a_b(T_IR_1, T_h20_1, T_IR_2, T_h20_2):\n",
    "        # Set up the system of linear equations\n",
    "        # T_IR_1 = a * T_h20_1^4 + T_h20_1 + b\n",
    "        # T_IR_2 = a * T_h20_2^4 + T_h20_2 + b\n",
    "        \n",
    "        # Coefficients matrix for the system [ [T_h20_1^4, 1], [T_h20_2^4, 1] ]\n",
    "        A = np.array([[T_h20_1**4, 1], [T_h20_2**4, 1]])\n",
    "        \n",
    "        # Right-hand side vector [T_IR_1 - T_h20_1, T_IR_2 - T_h20_2]\n",
    "        B = np.array([T_IR_1 - T_h20_1, T_IR_2 - T_h20_2])\n",
    "        \n",
    "        # Solve for a and b\n",
    "        a, b = np.linalg.solve(A, B)\n",
    "        \n",
    "        return a, b\n",
    "\n",
    "    a, b = find_a_b(T_IR_1, T_h20_1, T_IR_2, T_h20_2)\n",
    "\n",
    "    def equation(y):\n",
    "        return a * y**4 + y + b - T_IR\n",
    "    \n",
    "    # Use fsolve to find y for the given T_IR\n",
    "    T_h20_initial_guess = 283  # A reasonable initial guess\n",
    "    T_h20_solution = fsolve(equation,  T_h20_initial_guess)\n",
    "    \n",
    "    return T_h20_solution[0]\n",
    "\n",
    "\n",
    "\n",
    "# Now use the found a and b to map any T_IR to a corresponding y\n",
    "T_IR = 20.7 + 273.1\n",
    "y_mapped = temperature_mapping(T_IR)\n",
    "\n",
    "print(f\"Mapped temperature for T_IR={T_IR} is y={y_mapped}\")"
   ]
  }
 ],
 "metadata": {
  "kernelspec": {
   "display_name": "venv",
   "language": "python",
   "name": "python3"
  },
  "language_info": {
   "codemirror_mode": {
    "name": "ipython",
    "version": 3
   },
   "file_extension": ".py",
   "mimetype": "text/x-python",
   "name": "python",
   "nbconvert_exporter": "python",
   "pygments_lexer": "ipython3",
   "version": "3.12.5"
  }
 },
 "nbformat": 4,
 "nbformat_minor": 2
}
