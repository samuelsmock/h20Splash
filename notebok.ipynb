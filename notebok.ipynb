{
 "cells": [
  {
   "cell_type": "code",
   "execution_count": 7,
   "metadata": {},
   "outputs": [
    {
     "name": "stdout",
     "output_type": "stream",
     "text": [
      "-0.10780357329402669\n"
     ]
    }
   ],
   "source": [
    "epsilonSigma = 0.9 * 5.67e-8\n",
    "hconvec = 10\n",
    "\n",
    "roomTemp = 273+ 20\n",
    "faceTemp = 273+ 16.2\n",
    "innerTemp = 273 + 15.5\n",
    "plateThickness = 0.004\n",
    "\n",
    "k = plateThickness* ((epsilonSigma * (roomTemp**4 - faceTemp**4)) + hconvec*(roomTemp - faceTemp) )/ (faceTemp - innerTemp)\n",
    "\n",
    "print(k)"
   ]
  }
 ],
 "metadata": {
  "kernelspec": {
   "display_name": "venv",
   "language": "python",
   "name": "python3"
  },
  "language_info": {
   "codemirror_mode": {
    "name": "ipython",
    "version": 3
   },
   "file_extension": ".py",
   "mimetype": "text/x-python",
   "name": "python",
   "nbconvert_exporter": "python",
   "pygments_lexer": "ipython3",
   "version": "3.12.5"
  }
 },
 "nbformat": 4,
 "nbformat_minor": 2
}
